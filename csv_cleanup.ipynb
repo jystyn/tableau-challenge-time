{
 "cells": [
  {
   "cell_type": "code",
   "execution_count": 1,
   "metadata": {},
   "outputs": [],
   "source": [
    "import pandas as pd"
   ]
  },
  {
   "cell_type": "code",
   "execution_count": 2,
   "metadata": {},
   "outputs": [
    {
     "name": "stderr",
     "output_type": "stream",
     "text": [
      "/var/folders/0l/7pnb9fj11gq0k45q40v31pn80000gn/T/ipykernel_32254/2310575220.py:1: DtypeWarning: Columns (5,7) have mixed types. Specify dtype option on import or set low_memory=False.\n",
      "  df_august_1 = pd.read_csv(\"resources/raw/202308-citibike-tripdata_1.csv\", header=0, parse_dates=[2,3])\n",
      "/var/folders/0l/7pnb9fj11gq0k45q40v31pn80000gn/T/ipykernel_32254/2310575220.py:2: DtypeWarning: Columns (5,7) have mixed types. Specify dtype option on import or set low_memory=False.\n",
      "  df_august_2 = pd.read_csv(\"resources/raw/202308-citibike-tripdata_2.csv\", header=0, parse_dates=[2,3])\n",
      "/var/folders/0l/7pnb9fj11gq0k45q40v31pn80000gn/T/ipykernel_32254/2310575220.py:3: DtypeWarning: Columns (5,7) have mixed types. Specify dtype option on import or set low_memory=False.\n",
      "  df_august_3 = pd.read_csv(\"resources/raw/202308-citibike-tripdata_3.csv\", header=0, parse_dates=[2,3])\n",
      "/var/folders/0l/7pnb9fj11gq0k45q40v31pn80000gn/T/ipykernel_32254/2310575220.py:4: DtypeWarning: Columns (5,7) have mixed types. Specify dtype option on import or set low_memory=False.\n",
      "  df_august_4 = pd.read_csv(\"resources/raw/202308-citibike-tripdata_4.csv\", header=0, parse_dates=[2,3])\n"
     ]
    }
   ],
   "source": [
    "df_august_1 = pd.read_csv(\"resources/raw/202308-citibike-tripdata_1.csv\", header=0, parse_dates=[2,3])\n",
    "df_august_2 = pd.read_csv(\"resources/raw/202308-citibike-tripdata_2.csv\", header=0, parse_dates=[2,3])\n",
    "df_august_3 = pd.read_csv(\"resources/raw/202308-citibike-tripdata_3.csv\", header=0, parse_dates=[2,3])\n",
    "df_august_4 = pd.read_csv(\"resources/raw/202308-citibike-tripdata_4.csv\", header=0, parse_dates=[2,3])\n",
    "df_august_5 = pd.read_csv(\"resources/raw/202308-citibike-tripdata_5.csv\", header=0, parse_dates=[2,3])"
   ]
  },
  {
   "cell_type": "code",
   "execution_count": 3,
   "metadata": {},
   "outputs": [
    {
     "name": "stdout",
     "output_type": "stream",
     "text": [
      "<class 'pandas.core.frame.DataFrame'>\n",
      "RangeIndex: 1000000 entries, 0 to 999999\n",
      "Data columns (total 13 columns):\n",
      " #   Column              Non-Null Count    Dtype         \n",
      "---  ------              --------------    -----         \n",
      " 0   ride_id             1000000 non-null  object        \n",
      " 1   rideable_type       1000000 non-null  object        \n",
      " 2   started_at          1000000 non-null  datetime64[ns]\n",
      " 3   ended_at            1000000 non-null  datetime64[ns]\n",
      " 4   start_station_name  999692 non-null   object        \n",
      " 5   start_station_id    999692 non-null   object        \n",
      " 6   end_station_name    998312 non-null   object        \n",
      " 7   end_station_id      998312 non-null   object        \n",
      " 8   start_lat           1000000 non-null  float64       \n",
      " 9   start_lng           1000000 non-null  float64       \n",
      " 10  end_lat             999484 non-null   float64       \n",
      " 11  end_lng             999484 non-null   float64       \n",
      " 12  member_casual       1000000 non-null  object        \n",
      "dtypes: datetime64[ns](2), float64(4), object(7)\n",
      "memory usage: 99.2+ MB\n"
     ]
    }
   ],
   "source": [
    "df_august_1.info()"
   ]
  },
  {
   "cell_type": "code",
   "execution_count": 4,
   "metadata": {},
   "outputs": [
    {
     "name": "stdout",
     "output_type": "stream",
     "text": [
      "rideable_type\n",
      "classic_bike     923329\n",
      "electric_bike     76671\n",
      "Name: count, dtype: int64\n",
      "member_casual\n",
      "member    763218\n",
      "casual    236782\n",
      "Name: count, dtype: int64\n"
     ]
    }
   ],
   "source": [
    "print(df_august_1['rideable_type'].value_counts())\n",
    "print(df_august_1['member_casual'].value_counts())"
   ]
  },
  {
   "cell_type": "code",
   "execution_count": 5,
   "metadata": {},
   "outputs": [
    {
     "name": "stdout",
     "output_type": "stream",
     "text": [
      "(4093169, 13)\n",
      "<class 'pandas.core.frame.DataFrame'>\n",
      "Index: 4093169 entries, 0 to 93168\n",
      "Data columns (total 13 columns):\n",
      " #   Column              Dtype         \n",
      "---  ------              -----         \n",
      " 0   ride_id             object        \n",
      " 1   rideable_type       object        \n",
      " 2   started_at          datetime64[ns]\n",
      " 3   ended_at            datetime64[ns]\n",
      " 4   start_station_name  object        \n",
      " 5   start_station_id    object        \n",
      " 6   end_station_name    object        \n",
      " 7   end_station_id      object        \n",
      " 8   start_lat           float64       \n",
      " 9   start_lng           float64       \n",
      " 10  end_lat             float64       \n",
      " 11  end_lng             float64       \n",
      " 12  member_casual       object        \n",
      "dtypes: datetime64[ns](2), float64(4), object(7)\n",
      "memory usage: 437.2+ MB\n"
     ]
    }
   ],
   "source": [
    "df_citibike_data = pd.concat([df_august_1, df_august_2, df_august_3, df_august_4, df_august_5])\n",
    "print(df_citibike_data.shape)\n",
    "df_citibike_data.info()"
   ]
  },
  {
   "cell_type": "code",
   "execution_count": 6,
   "metadata": {},
   "outputs": [
    {
     "name": "stdout",
     "output_type": "stream",
     "text": [
      "(4083172, 10)\n",
      "<class 'pandas.core.frame.DataFrame'>\n",
      "Index: 4083172 entries, 0 to 93168\n",
      "Data columns (total 10 columns):\n",
      " #   Column              Dtype         \n",
      "---  ------              -----         \n",
      " 0   rideable_type       object        \n",
      " 1   started_at          datetime64[ns]\n",
      " 2   ended_at            datetime64[ns]\n",
      " 3   start_station_name  object        \n",
      " 4   end_station_name    object        \n",
      " 5   start_lat           float64       \n",
      " 6   start_lng           float64       \n",
      " 7   end_lat             float64       \n",
      " 8   end_lng             float64       \n",
      " 9   member_casual       bool          \n",
      "dtypes: bool(1), datetime64[ns](2), float64(4), object(3)\n",
      "memory usage: 315.4+ MB\n"
     ]
    }
   ],
   "source": [
    "map_rideable_types = {\n",
    "    'classic_bike': 'C',\n",
    "    'electric_bike': 'E',\n",
    "    'docked_bike': 'D'\n",
    "    }\n",
    "map_member = {\n",
    "    'member': True,\n",
    "    'casual': False\n",
    "}\n",
    "df_citibike_data.drop(['ride_id', 'start_station_id', 'end_station_id'], axis=1, inplace=True)\n",
    "df_citibike_data.dropna(axis=0, inplace=True)\n",
    "df_citibike_data['rideable_type'] = df_citibike_data['rideable_type'].map(map_rideable_types)\n",
    "df_citibike_data['member_casual'] = df_citibike_data['member_casual'].map(map_member)\n",
    "print(df_citibike_data.shape)\n",
    "df_citibike_data.info()"
   ]
  },
  {
   "cell_type": "code",
   "execution_count": 7,
   "metadata": {},
   "outputs": [],
   "source": [
    "df_citibike_data.to_csv('resources/citibike_data.csv', index=False, header=True)"
   ]
  }
 ],
 "metadata": {
  "kernelspec": {
   "display_name": "dev",
   "language": "python",
   "name": "python3"
  },
  "language_info": {
   "codemirror_mode": {
    "name": "ipython",
    "version": 3
   },
   "file_extension": ".py",
   "mimetype": "text/x-python",
   "name": "python",
   "nbconvert_exporter": "python",
   "pygments_lexer": "ipython3",
   "version": "3.10.13"
  }
 },
 "nbformat": 4,
 "nbformat_minor": 2
}
